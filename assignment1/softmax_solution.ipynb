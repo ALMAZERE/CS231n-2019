{
 "cells": [
  {
   "cell_type": "markdown",
   "metadata": {
    "tags": [
     "pdf-title"
    ]
   },
   "source": [
    "# Softmax exercise\n",
    "\n",
    "*Complete and hand in this completed worksheet (including its outputs and any supporting code outside of the worksheet) with your assignment submission. For more details see the [assignments page](http://vision.stanford.edu/teaching/cs231n/assignments.html) on the course website.*\n",
    "\n",
    "This exercise is analogous to the SVM exercise. You will:\n",
    "\n",
    "- implement a fully-vectorized **loss function** for the Softmax classifier\n",
    "- implement the fully-vectorized expression for its **analytic gradient**\n",
    "- **check your implementation** with numerical gradient\n",
    "- use a validation set to **tune the learning rate and regularization** strength\n",
    "- **optimize** the loss function with **SGD**\n",
    "- **visualize** the final learned weights\n"
   ]
  },
  {
   "cell_type": "code",
   "execution_count": 1,
   "metadata": {
    "tags": [
     "pdf-ignore"
    ]
   },
   "outputs": [],
   "source": [
    "import random\n",
    "import numpy as np\n",
    "from cs231n.data_utils import load_CIFAR10\n",
    "import matplotlib.pyplot as plt\n",
    "\n",
    "%matplotlib inline\n",
    "plt.rcParams['figure.figsize'] = (10.0, 8.0) # set default size of plots\n",
    "plt.rcParams['image.interpolation'] = 'nearest'\n",
    "plt.rcParams['image.cmap'] = 'gray'\n",
    "\n",
    "# for auto-reloading extenrnal modules\n",
    "# see http://stackoverflow.com/questions/1907993/autoreload-of-modules-in-ipython\n",
    "%load_ext autoreload\n",
    "%autoreload 2"
   ]
  },
  {
   "cell_type": "code",
   "execution_count": 2,
   "metadata": {
    "tags": [
     "pdf-ignore"
    ]
   },
   "outputs": [
    {
     "name": "stdout",
     "output_type": "stream",
     "text": [
      "Train data shape:  (49000, 3073)\n",
      "Train labels shape:  (49000,)\n",
      "Validation data shape:  (1000, 3073)\n",
      "Validation labels shape:  (1000,)\n",
      "Test data shape:  (1000, 3073)\n",
      "Test labels shape:  (1000,)\n",
      "dev data shape:  (500, 3073)\n",
      "dev labels shape:  (500,)\n"
     ]
    }
   ],
   "source": [
    "def get_CIFAR10_data(num_training=49000, num_validation=1000, num_test=1000, num_dev=500):\n",
    "    \"\"\"\n",
    "    Load the CIFAR-10 dataset from disk and perform preprocessing to prepare\n",
    "    it for the linear classifier. These are the same steps as we used for the\n",
    "    SVM, but condensed to a single function.  \n",
    "    \"\"\"\n",
    "    # Load the raw CIFAR-10 data\n",
    "    cifar10_dir = 'cs231n/datasets/cifar-10-batches-py'\n",
    "    \n",
    "    # Cleaning up variables to prevent loading data multiple times (which may cause memory issue)\n",
    "    try:\n",
    "        del X_train, y_train\n",
    "        del X_test, y_test\n",
    "        print('Clear previously loaded data.')\n",
    "    except:\n",
    "        pass\n",
    "\n",
    "    X_train, y_train, X_test, y_test = load_CIFAR10(cifar10_dir)\n",
    "    \n",
    "    # subsample the data\n",
    "    mask = list(range(num_training, num_training + num_validation))\n",
    "    X_val = X_train[mask]\n",
    "    y_val = y_train[mask]\n",
    "    mask = list(range(num_training))\n",
    "    X_train = X_train[mask]\n",
    "    y_train = y_train[mask]\n",
    "    mask = list(range(num_test))\n",
    "    X_test = X_test[mask]\n",
    "    y_test = y_test[mask]\n",
    "    mask = np.random.choice(num_training, num_dev, replace=False)\n",
    "    X_dev = X_train[mask]\n",
    "    y_dev = y_train[mask]\n",
    "    \n",
    "    # Preprocessing: reshape the image data into rows\n",
    "    X_train = np.reshape(X_train, (X_train.shape[0], -1))\n",
    "    X_val = np.reshape(X_val, (X_val.shape[0], -1))\n",
    "    X_test = np.reshape(X_test, (X_test.shape[0], -1))\n",
    "    X_dev = np.reshape(X_dev, (X_dev.shape[0], -1))\n",
    "    \n",
    "    # Normalize the data: subtract the mean image\n",
    "    mean_image = np.mean(X_train, axis = 0)\n",
    "    X_train -= mean_image\n",
    "    X_val -= mean_image\n",
    "    X_test -= mean_image\n",
    "    X_dev -= mean_image\n",
    "    \n",
    "    # add bias dimension and transform into columns\n",
    "    X_train = np.hstack([X_train, np.ones((X_train.shape[0], 1))])\n",
    "    X_val = np.hstack([X_val, np.ones((X_val.shape[0], 1))])\n",
    "    X_test = np.hstack([X_test, np.ones((X_test.shape[0], 1))])\n",
    "    X_dev = np.hstack([X_dev, np.ones((X_dev.shape[0], 1))])\n",
    "    \n",
    "    return X_train, y_train, X_val, y_val, X_test, y_test, X_dev, y_dev\n",
    "\n",
    "\n",
    "# Invoke the above function to get our data.\n",
    "X_train, y_train, X_val, y_val, X_test, y_test, X_dev, y_dev = get_CIFAR10_data()\n",
    "print('Train data shape: ', X_train.shape)\n",
    "print('Train labels shape: ', y_train.shape)\n",
    "print('Validation data shape: ', X_val.shape)\n",
    "print('Validation labels shape: ', y_val.shape)\n",
    "print('Test data shape: ', X_test.shape)\n",
    "print('Test labels shape: ', y_test.shape)\n",
    "print('dev data shape: ', X_dev.shape)\n",
    "print('dev labels shape: ', y_dev.shape)"
   ]
  },
  {
   "cell_type": "markdown",
   "metadata": {},
   "source": [
    "## Softmax Classifier\n",
    "\n",
    "Your code for this section will all be written inside **cs231n/classifiers/softmax.py**. \n"
   ]
  },
  {
   "cell_type": "code",
   "execution_count": 3,
   "metadata": {},
   "outputs": [
    {
     "name": "stdout",
     "output_type": "stream",
     "text": [
      "loss: 2.353352\n",
      "sanity check: 2.302585\n"
     ]
    }
   ],
   "source": [
    "# First implement the naive softmax loss function with nested loops.\n",
    "# Open the file cs231n/classifiers/softmax.py and implement the\n",
    "# softmax_loss_naive function.\n",
    "\n",
    "from cs231n.classifiers.softmax import softmax_loss_naive\n",
    "import time\n",
    "\n",
    "# Generate a random softmax weight matrix and use it to compute the loss.\n",
    "W = np.random.randn(3073, 10) * 0.0001\n",
    "loss, grad = softmax_loss_naive(W, X_dev, y_dev, 0.0)\n",
    "\n",
    "# As a rough sanity check, our loss should be something close to -log(0.1).\n",
    "print('loss: %f' % loss)\n",
    "print('sanity check: %f' % (-np.log(0.1)))"
   ]
  },
  {
   "cell_type": "markdown",
   "metadata": {
    "tags": [
     "pdf-inline"
    ]
   },
   "source": [
    "**Inline Question 1**\n",
    "\n",
    "Why do we expect our loss to be close to -log(0.1)? Explain briefly.**\n",
    "\n",
    "$\\color{blue}{\\textit Your Answer:}$ *There are total 10 classes, and initially we are taking random weight matrix which is same as random guessing.* \n",
    "\n"
   ]
  },
  {
   "cell_type": "code",
   "execution_count": 4,
   "metadata": {},
   "outputs": [
    {
     "name": "stdout",
     "output_type": "stream",
     "text": [
      "numerical: -1.699521 analytic: -1.699521, relative error: 1.335700e-09\n",
      "numerical: 0.773193 analytic: 0.773193, relative error: 5.407517e-08\n",
      "numerical: -0.388373 analytic: -0.388373, relative error: 4.088243e-08\n",
      "numerical: -0.449094 analytic: -0.449093, relative error: 9.378861e-08\n",
      "numerical: 0.065293 analytic: 0.065293, relative error: 5.266216e-07\n",
      "numerical: 0.983877 analytic: 0.983876, relative error: 4.540885e-08\n",
      "numerical: 0.884246 analytic: 0.884246, relative error: 3.821105e-08\n",
      "numerical: -0.750251 analytic: -0.750251, relative error: 2.585901e-09\n",
      "numerical: -0.267467 analytic: -0.267467, relative error: 6.524678e-08\n",
      "numerical: 0.014533 analytic: 0.014533, relative error: 5.293026e-06\n",
      "numerical: 0.851116 analytic: 0.851116, relative error: 4.400063e-08\n",
      "numerical: -1.768533 analytic: -1.768533, relative error: 1.012191e-08\n",
      "numerical: -1.244153 analytic: -1.244153, relative error: 2.942435e-09\n",
      "numerical: 1.187191 analytic: 1.187191, relative error: 2.443502e-08\n",
      "numerical: 1.820072 analytic: 1.820072, relative error: 1.543927e-08\n",
      "numerical: 1.158264 analytic: 1.158264, relative error: 2.037349e-08\n",
      "numerical: 1.599310 analytic: 1.599310, relative error: 3.067689e-09\n",
      "numerical: -2.881481 analytic: -2.881481, relative error: 4.611701e-09\n",
      "numerical: -2.447897 analytic: -2.447897, relative error: 1.859373e-08\n",
      "numerical: 2.576898 analytic: 2.576898, relative error: 2.398677e-08\n"
     ]
    }
   ],
   "source": [
    "# Complete the implementation of softmax_loss_naive and implement a (naive)\n",
    "# version of the gradient that uses nested loops.\n",
    "loss, grad = softmax_loss_naive(W, X_dev, y_dev, 0.0)\n",
    "\n",
    "# As we did for the SVM, use numeric gradient checking as a debugging tool.\n",
    "# The numeric gradient should be close to the analytic gradient.\n",
    "from cs231n.gradient_check import grad_check_sparse\n",
    "f = lambda w: softmax_loss_naive(w, X_dev, y_dev, 0.0)[0]\n",
    "grad_numerical = grad_check_sparse(f, W, grad, 10)\n",
    "\n",
    "# similar to SVM case, do another gradient check with regularization\n",
    "loss, grad = softmax_loss_naive(W, X_dev, y_dev, 5e1)\n",
    "f = lambda w: softmax_loss_naive(w, X_dev, y_dev, 5e1)[0]\n",
    "grad_numerical = grad_check_sparse(f, W, grad, 10)"
   ]
  },
  {
   "cell_type": "code",
   "execution_count": 5,
   "metadata": {},
   "outputs": [
    {
     "name": "stdout",
     "output_type": "stream",
     "text": [
      "naive loss: 2.353352e+00 computed in 0.147941s\n",
      "vectorized loss: 2.353352e+00 computed in 0.350338s\n",
      "Loss difference: 0.000000\n",
      "Gradient difference: 0.000000\n"
     ]
    }
   ],
   "source": [
    "# Now that we have a naive implementation of the softmax loss function and its gradient,\n",
    "# implement a vectorized version in softmax_loss_vectorized.\n",
    "# The two versions should compute the same results, but the vectorized version should be\n",
    "# much faster.\n",
    "tic = time.time()\n",
    "loss_naive, grad_naive = softmax_loss_naive(W, X_dev, y_dev, 0.000005)\n",
    "toc = time.time()\n",
    "print('naive loss: %e computed in %fs' % (loss_naive, toc - tic))\n",
    "\n",
    "from cs231n.classifiers.softmax import softmax_loss_vectorized\n",
    "tic = time.time()\n",
    "loss_vectorized, grad_vectorized = softmax_loss_vectorized(W, X_dev, y_dev, 0.000005)\n",
    "toc = time.time()\n",
    "print('vectorized loss: %e computed in %fs' % (loss_vectorized, toc - tic))\n",
    "\n",
    "# As we did for the SVM, we use the Frobenius norm to compare the two versions\n",
    "# of the gradient.\n",
    "grad_difference = np.linalg.norm(grad_naive - grad_vectorized, ord='fro')\n",
    "print('Loss difference: %f' % np.abs(loss_naive - loss_vectorized))\n",
    "print('Gradient difference: %f' % grad_difference)"
   ]
  },
  {
   "cell_type": "code",
   "execution_count": 6,
   "metadata": {
    "tags": [
     "code"
    ]
   },
   "outputs": [
    {
     "name": "stdout",
     "output_type": "stream",
     "text": [
      "Done: 100\n",
      "lr 1.000000e-07 reg 2.500000e+04 train accuracy: 0.321878 val accuracy: 0.346000\n",
      "lr 1.000000e-07 reg 2.777778e+04 train accuracy: 0.328837 val accuracy: 0.341000\n",
      "lr 1.000000e-07 reg 3.055556e+04 train accuracy: 0.326184 val accuracy: 0.342000\n",
      "lr 1.000000e-07 reg 3.333333e+04 train accuracy: 0.325490 val accuracy: 0.338000\n",
      "lr 1.000000e-07 reg 3.611111e+04 train accuracy: 0.320571 val accuracy: 0.336000\n",
      "lr 1.000000e-07 reg 3.888889e+04 train accuracy: 0.317449 val accuracy: 0.330000\n",
      "lr 1.000000e-07 reg 4.166667e+04 train accuracy: 0.312673 val accuracy: 0.328000\n",
      "lr 1.000000e-07 reg 4.444444e+04 train accuracy: 0.312327 val accuracy: 0.325000\n",
      "lr 1.000000e-07 reg 4.722222e+04 train accuracy: 0.316878 val accuracy: 0.324000\n",
      "lr 1.000000e-07 reg 5.000000e+04 train accuracy: 0.310612 val accuracy: 0.323000\n",
      "lr 1.222222e-07 reg 2.500000e+04 train accuracy: 0.326143 val accuracy: 0.343000\n",
      "lr 1.222222e-07 reg 2.777778e+04 train accuracy: 0.327327 val accuracy: 0.338000\n",
      "lr 1.222222e-07 reg 3.055556e+04 train accuracy: 0.320633 val accuracy: 0.335000\n",
      "lr 1.222222e-07 reg 3.333333e+04 train accuracy: 0.321020 val accuracy: 0.344000\n",
      "lr 1.222222e-07 reg 3.611111e+04 train accuracy: 0.319898 val accuracy: 0.335000\n",
      "lr 1.222222e-07 reg 3.888889e+04 train accuracy: 0.304408 val accuracy: 0.322000\n",
      "lr 1.222222e-07 reg 4.166667e+04 train accuracy: 0.313551 val accuracy: 0.326000\n",
      "lr 1.222222e-07 reg 4.444444e+04 train accuracy: 0.309714 val accuracy: 0.328000\n",
      "lr 1.222222e-07 reg 4.722222e+04 train accuracy: 0.308102 val accuracy: 0.323000\n",
      "lr 1.222222e-07 reg 5.000000e+04 train accuracy: 0.303000 val accuracy: 0.323000\n",
      "lr 1.444444e-07 reg 2.500000e+04 train accuracy: 0.333878 val accuracy: 0.348000\n",
      "lr 1.444444e-07 reg 2.777778e+04 train accuracy: 0.328041 val accuracy: 0.347000\n",
      "lr 1.444444e-07 reg 3.055556e+04 train accuracy: 0.318102 val accuracy: 0.328000\n",
      "lr 1.444444e-07 reg 3.333333e+04 train accuracy: 0.325673 val accuracy: 0.341000\n",
      "lr 1.444444e-07 reg 3.611111e+04 train accuracy: 0.324143 val accuracy: 0.339000\n",
      "lr 1.444444e-07 reg 3.888889e+04 train accuracy: 0.313837 val accuracy: 0.336000\n",
      "lr 1.444444e-07 reg 4.166667e+04 train accuracy: 0.311469 val accuracy: 0.323000\n",
      "lr 1.444444e-07 reg 4.444444e+04 train accuracy: 0.308347 val accuracy: 0.331000\n",
      "lr 1.444444e-07 reg 4.722222e+04 train accuracy: 0.305265 val accuracy: 0.325000\n",
      "lr 1.444444e-07 reg 5.000000e+04 train accuracy: 0.301551 val accuracy: 0.313000\n",
      "lr 1.666667e-07 reg 2.500000e+04 train accuracy: 0.326286 val accuracy: 0.347000\n",
      "lr 1.666667e-07 reg 2.777778e+04 train accuracy: 0.326551 val accuracy: 0.344000\n",
      "lr 1.666667e-07 reg 3.055556e+04 train accuracy: 0.325469 val accuracy: 0.334000\n",
      "lr 1.666667e-07 reg 3.333333e+04 train accuracy: 0.322184 val accuracy: 0.332000\n",
      "lr 1.666667e-07 reg 3.611111e+04 train accuracy: 0.307714 val accuracy: 0.321000\n",
      "lr 1.666667e-07 reg 3.888889e+04 train accuracy: 0.316612 val accuracy: 0.335000\n",
      "lr 1.666667e-07 reg 4.166667e+04 train accuracy: 0.312000 val accuracy: 0.327000\n",
      "lr 1.666667e-07 reg 4.444444e+04 train accuracy: 0.301408 val accuracy: 0.304000\n",
      "lr 1.666667e-07 reg 4.722222e+04 train accuracy: 0.311694 val accuracy: 0.323000\n",
      "lr 1.666667e-07 reg 5.000000e+04 train accuracy: 0.305347 val accuracy: 0.323000\n",
      "lr 1.888889e-07 reg 2.500000e+04 train accuracy: 0.329449 val accuracy: 0.347000\n",
      "lr 1.888889e-07 reg 2.777778e+04 train accuracy: 0.324755 val accuracy: 0.343000\n",
      "lr 1.888889e-07 reg 3.055556e+04 train accuracy: 0.325653 val accuracy: 0.337000\n",
      "lr 1.888889e-07 reg 3.333333e+04 train accuracy: 0.316694 val accuracy: 0.334000\n",
      "lr 1.888889e-07 reg 3.611111e+04 train accuracy: 0.311408 val accuracy: 0.324000\n",
      "lr 1.888889e-07 reg 3.888889e+04 train accuracy: 0.306735 val accuracy: 0.324000\n",
      "lr 1.888889e-07 reg 4.166667e+04 train accuracy: 0.315796 val accuracy: 0.330000\n",
      "lr 1.888889e-07 reg 4.444444e+04 train accuracy: 0.311571 val accuracy: 0.328000\n",
      "lr 1.888889e-07 reg 4.722222e+04 train accuracy: 0.308408 val accuracy: 0.327000\n",
      "lr 1.888889e-07 reg 5.000000e+04 train accuracy: 0.304102 val accuracy: 0.325000\n",
      "lr 2.111111e-07 reg 2.500000e+04 train accuracy: 0.327469 val accuracy: 0.348000\n",
      "lr 2.111111e-07 reg 2.777778e+04 train accuracy: 0.328837 val accuracy: 0.340000\n",
      "lr 2.111111e-07 reg 3.055556e+04 train accuracy: 0.324122 val accuracy: 0.333000\n",
      "lr 2.111111e-07 reg 3.333333e+04 train accuracy: 0.322204 val accuracy: 0.338000\n",
      "lr 2.111111e-07 reg 3.611111e+04 train accuracy: 0.319245 val accuracy: 0.343000\n",
      "lr 2.111111e-07 reg 3.888889e+04 train accuracy: 0.308796 val accuracy: 0.328000\n",
      "lr 2.111111e-07 reg 4.166667e+04 train accuracy: 0.313755 val accuracy: 0.338000\n",
      "lr 2.111111e-07 reg 4.444444e+04 train accuracy: 0.303531 val accuracy: 0.324000\n",
      "lr 2.111111e-07 reg 4.722222e+04 train accuracy: 0.305327 val accuracy: 0.318000\n",
      "lr 2.111111e-07 reg 5.000000e+04 train accuracy: 0.297388 val accuracy: 0.323000\n",
      "lr 2.333333e-07 reg 2.500000e+04 train accuracy: 0.325612 val accuracy: 0.346000\n",
      "lr 2.333333e-07 reg 2.777778e+04 train accuracy: 0.321204 val accuracy: 0.339000\n",
      "lr 2.333333e-07 reg 3.055556e+04 train accuracy: 0.324429 val accuracy: 0.336000\n",
      "lr 2.333333e-07 reg 3.333333e+04 train accuracy: 0.321857 val accuracy: 0.337000\n",
      "lr 2.333333e-07 reg 3.611111e+04 train accuracy: 0.317102 val accuracy: 0.337000\n",
      "lr 2.333333e-07 reg 3.888889e+04 train accuracy: 0.306673 val accuracy: 0.320000\n",
      "lr 2.333333e-07 reg 4.166667e+04 train accuracy: 0.312041 val accuracy: 0.327000\n",
      "lr 2.333333e-07 reg 4.444444e+04 train accuracy: 0.310633 val accuracy: 0.332000\n",
      "lr 2.333333e-07 reg 4.722222e+04 train accuracy: 0.305041 val accuracy: 0.314000\n",
      "lr 2.333333e-07 reg 5.000000e+04 train accuracy: 0.307653 val accuracy: 0.329000\n",
      "lr 2.555556e-07 reg 2.500000e+04 train accuracy: 0.325735 val accuracy: 0.336000\n",
      "lr 2.555556e-07 reg 2.777778e+04 train accuracy: 0.328633 val accuracy: 0.340000\n",
      "lr 2.555556e-07 reg 3.055556e+04 train accuracy: 0.320510 val accuracy: 0.340000\n",
      "lr 2.555556e-07 reg 3.333333e+04 train accuracy: 0.321837 val accuracy: 0.333000\n",
      "lr 2.555556e-07 reg 3.611111e+04 train accuracy: 0.320878 val accuracy: 0.325000\n",
      "lr 2.555556e-07 reg 3.888889e+04 train accuracy: 0.308673 val accuracy: 0.330000\n",
      "lr 2.555556e-07 reg 4.166667e+04 train accuracy: 0.311388 val accuracy: 0.335000\n",
      "lr 2.555556e-07 reg 4.444444e+04 train accuracy: 0.301000 val accuracy: 0.313000\n",
      "lr 2.555556e-07 reg 4.722222e+04 train accuracy: 0.306245 val accuracy: 0.316000\n",
      "lr 2.555556e-07 reg 5.000000e+04 train accuracy: 0.299449 val accuracy: 0.310000\n",
      "lr 2.777778e-07 reg 2.500000e+04 train accuracy: 0.327286 val accuracy: 0.344000\n",
      "lr 2.777778e-07 reg 2.777778e+04 train accuracy: 0.323694 val accuracy: 0.335000\n",
      "lr 2.777778e-07 reg 3.055556e+04 train accuracy: 0.321673 val accuracy: 0.346000\n",
      "lr 2.777778e-07 reg 3.333333e+04 train accuracy: 0.312959 val accuracy: 0.328000\n",
      "lr 2.777778e-07 reg 3.611111e+04 train accuracy: 0.316286 val accuracy: 0.321000\n",
      "lr 2.777778e-07 reg 3.888889e+04 train accuracy: 0.312224 val accuracy: 0.331000\n",
      "lr 2.777778e-07 reg 4.166667e+04 train accuracy: 0.306388 val accuracy: 0.318000\n",
      "lr 2.777778e-07 reg 4.444444e+04 train accuracy: 0.303469 val accuracy: 0.329000\n",
      "lr 2.777778e-07 reg 4.722222e+04 train accuracy: 0.301592 val accuracy: 0.323000\n",
      "lr 2.777778e-07 reg 5.000000e+04 train accuracy: 0.309163 val accuracy: 0.328000\n",
      "lr 3.000000e-07 reg 2.500000e+04 train accuracy: 0.323490 val accuracy: 0.343000\n",
      "lr 3.000000e-07 reg 2.777778e+04 train accuracy: 0.330184 val accuracy: 0.342000\n",
      "lr 3.000000e-07 reg 3.055556e+04 train accuracy: 0.322898 val accuracy: 0.330000\n",
      "lr 3.000000e-07 reg 3.333333e+04 train accuracy: 0.322408 val accuracy: 0.346000\n",
      "lr 3.000000e-07 reg 3.611111e+04 train accuracy: 0.308245 val accuracy: 0.323000\n",
      "lr 3.000000e-07 reg 3.888889e+04 train accuracy: 0.303204 val accuracy: 0.323000\n",
      "lr 3.000000e-07 reg 4.166667e+04 train accuracy: 0.315306 val accuracy: 0.327000\n",
      "lr 3.000000e-07 reg 4.444444e+04 train accuracy: 0.313224 val accuracy: 0.321000\n",
      "lr 3.000000e-07 reg 4.722222e+04 train accuracy: 0.313429 val accuracy: 0.322000\n",
      "lr 3.000000e-07 reg 5.000000e+04 train accuracy: 0.308816 val accuracy: 0.334000\n",
      "best validation accuracy achieved during cross-validation: 0.348000\n"
     ]
    }
   ],
   "source": [
    "# Use the validation set to tune hyperparameters (regularization strength and\n",
    "# learning rate). You should experiment with different ranges for the learning\n",
    "# rates and regularization strengths; if you are careful you should be able to\n",
    "# get a classification accuracy of over 0.35 on the validation set.\n",
    "from cs231n.classifiers import Softmax\n",
    "results = {}\n",
    "best_val = -1\n",
    "best_softmax = None\n",
    "learning_rates = np.linspace(1e-7, 3e-7, 10)\n",
    "regularization_strengths = np.linspace(2.5e4, 5e4, 10)\n",
    "\n",
    "\n",
    "################################################################################\n",
    "# TODO:                                                                        #\n",
    "# Use the validation set to set the learning rate and regularization strength. #\n",
    "# This should be identical to the validation that you did for the SVM; save    #\n",
    "# the best trained softmax classifer in best_softmax.                          #\n",
    "################################################################################\n",
    "# *****START OF YOUR CODE (DO NOT DELETE/MODIFY THIS LINE)*****\n",
    "\n",
    "i = 0\n",
    "for lr in learning_rates:\n",
    "    for reg in regularization_strengths:\n",
    "        i+=1\n",
    "        sf = Softmax()\n",
    "        sf.train(X_train, y_train, learning_rate=lr, reg=reg,\n",
    "                      num_iters=1500, verbose=False)\n",
    "        y_train_pred = sf.predict(X_train)\n",
    "        train_acc = np.mean(y_train == y_train_pred)\n",
    "        y_val_pred = sf.predict(X_val)\n",
    "        val_acc = np.mean(y_val == y_val_pred)\n",
    "        results[(lr,reg)] = (train_acc,val_acc)\n",
    "        if best_val<val_acc:\n",
    "            best_val = val_acc\n",
    "            best_softmax = sf\n",
    "        print(\"\\rDone:\",i,end=\"\")\n",
    "\n",
    "# *****END OF YOUR CODE (DO NOT DELETE/MODIFY THIS LINE)*****\n",
    "print(\"\")\n",
    "# Print out results.\n",
    "for lr, reg in sorted(results):\n",
    "    train_accuracy, val_accuracy = results[(lr, reg)]\n",
    "    print('lr %e reg %e train accuracy: %f val accuracy: %f' % (\n",
    "                lr, reg, train_accuracy, val_accuracy))\n",
    "    \n",
    "print('best validation accuracy achieved during cross-validation: %f' % best_val)"
   ]
  },
  {
   "cell_type": "code",
   "execution_count": 7,
   "metadata": {},
   "outputs": [
    {
     "name": "stdout",
     "output_type": "stream",
     "text": [
      "softmax on raw pixels final test set accuracy: 0.341000\n"
     ]
    }
   ],
   "source": [
    "# evaluate on test set\n",
    "# Evaluate the best softmax on test set\n",
    "y_test_pred = best_softmax.predict(X_test)\n",
    "test_accuracy = np.mean(y_test == y_test_pred)\n",
    "print('softmax on raw pixels final test set accuracy: %f' % (test_accuracy, ))"
   ]
  },
  {
   "cell_type": "markdown",
   "metadata": {
    "tags": [
     "pdf-inline"
    ]
   },
   "source": [
    "**Inline Question 2** - *True or False*\n",
    "\n",
    "Suppose the overall training loss is defined as the sum of the per-datapoint loss over all training examples. It is possible to add a new datapoint to a training set that would leave the SVM loss unchanged, but this is not the case with the Softmax classifier loss.\n",
    "\n",
    "$\\color{blue}{\\textit Your Answer:}$ True\n",
    "\n",
    "\n",
    "$\\color{blue}{\\textit Your Explanation:}$ Each training point will have a weight in Softmax loss (As -inf score for a class is not possible) but same is not true for SVM loss where we ignore a sample loss if it is correct.\n",
    "\n"
   ]
  },
  {
   "cell_type": "code",
   "execution_count": 8,
   "metadata": {},
   "outputs": [
    {
     "data": {
      "image/png": "[encoded data removed]",
      "text/plain": [
       "<Figure size 432x288 with 10 Axes>"
      ]
     },
     "metadata": {
      "needs_background": "light"
     },
     "output_type": "display_data"
    }
   ],
   "source": [
    "# Visualize the learned weights for each class\n",
    "w = best_softmax.W[:-1,:] # strip out the bias\n",
    "w = w.reshape(32, 32, 3, 10)\n",
    "\n",
    "w_min, w_max = np.min(w), np.max(w)\n",
    "\n",
    "classes = ['plane', 'car', 'bird', 'cat', 'deer', 'dog', 'frog', 'horse', 'ship', 'truck']\n",
    "for i in range(10):\n",
    "    plt.subplot(2, 5, i + 1)\n",
    "    \n",
    "    # Rescale the weights to be between 0 and 255\n",
    "    wimg = 255.0 * (w[:, :, :, i].squeeze() - w_min) / (w_max - w_min)\n",
    "    plt.imshow(wimg.astype('uint8'))\n",
    "    plt.axis('off')\n",
    "    plt.title(classes[i])"
   ]
  },
  {
   "cell_type": "code",
   "execution_count": null,
   "metadata": {},
   "outputs": [],
   "source": []
  }
 ],
 "metadata": {
  "kernelspec": {
   "display_name": "Python 3",
   "language": "python",
   "name": "python3"
  },
  "language_info": {
   "codemirror_mode": {
    "name": "ipython",
    "version": 3
   },
   "file_extension": ".py",
   "mimetype": "text/x-python",
   "name": "python",
   "nbconvert_exporter": "python",
   "pygments_lexer": "ipython3",
   "version": "3.6.8"
  }
 },
 "nbformat": 4,
 "nbformat_minor": 1
}
